{
 "cells": [
  {
   "cell_type": "markdown",
   "metadata": {},
   "source": [
    "## Intro into Deep Learning with Keras!\n"
   ]
  },
  {
   "cell_type": "markdown",
   "metadata": {},
   "source": [
    "##  Set-up  \n",
    "\n",
    "\n",
    "### 0) Installing Anaconda\n",
    "\n",
    "If you haven't already, follow the instructions [here](https://github.com/julialintern/Intro_to_Deep_Learning/anaconda_install/) to **install an updated version of Anaconda** (with Python 3). \n",
    "\n",
    "Next, check that `conda` is installed by running `conda -V` from your terminal. You should\n",
    "receive a response indicating your current `conda` version."
   ]
  },
  {
   "cell_type": "markdown",
   "metadata": {},
   "source": [
    "### 1)  Install Environment:   (for Tensorflow for Mac M1 Chip Users only)\n",
    "  \n",
    "Unfortunately, the new Mac M1 chip does not work with the typical Tensorflow implementation. Mac M1 chip users will require a very specific version of Tensorflow.  We have complied instructions for this installation, which are available to you below, but once again, you only need to follow these directions if you are a Mac M1 chip user (November 2020 or later).\n",
    "\n",
    "#### Create a conda environment (see reference here for 1st 3 steps as follows): \n",
    "\n",
    "1. conda create -n dl python=3.8\n",
    "\n",
    "2. source activate dl\n",
    "\n",
    "3. conda install anaconda\n",
    "\n",
    "#### Install Tensorflow\n",
    "\n",
    "4. Download the wheel called `tensorflow-2.4.1-py3-none-any.whl` located at this public google drive link:   \n",
    "[drive.google.com/drive/folders/1oSipZLnoeQB0Awz8U68KYeCPsULy_dQ7](https://drive.google.com/drive/folders/1oSipZLnoeQB0Awz8U68KYeCPsULy_dQ7)\n",
    "\n",
    "5. Assuming you downloaded the wheel to your Downloads folder, install it with pip:  \n",
    "\n",
    " ```bash\n",
    "pip install ~/Downloads/tensorflow-2.4.1-py3-none-any.whl --user`\n",
    "```\n",
    "\n",
    "6. Test that it works with `ipython` at the command line:\n",
    "\n",
    "```bash\n",
    "ipython --no-banner\n",
    "In [1]: import tensorflow\n",
    "```\n",
    "\n",
    "\n",
    "#### Install remaining packages\n",
    "```bash\n",
    "conda install -c conda-forge keras\n",
    "pip install pydot-ng\n",
    "brew install graphviz (refer here if you need to install home-brew: https://brew.sh)\n",
    "pip install pydot\n",
    "```\n",
    "\n",
    "#### Add 'dl' kernel to jupyter\n",
    "```bash\n",
    "conda install ipykernel\n",
    "ipython kernel install --name dl --usera\n",
    "```\n",
    "\n"
   ]
  },
  {
   "cell_type": "markdown",
   "metadata": {},
   "source": [
    "### 2)  Install Environment:   (All other machine-types)\n",
    "\n",
    "\n",
    "```bash\n",
    "conda create -n dl python=3  \n",
    "source activate dl\n",
    "conda install anaconda\n",
    "```\n",
    "\n",
    "#### Install Tensorflow & remaining packages\n",
    "\n",
    "```bash\n",
    "conda install -c conda-forge tensorflow\n",
    "conda install -c conda-forge keras\n",
    "pip install pydot-ng\n",
    "brew install graphviz (for linux use: sudo apt install python-pydot python-pydot-ng graphvi)\n",
    "pip install pydot\n",
    "conda install -c anaconda gevent\n",
    "conda install -c anaconda requests\n",
    "```\n",
    "\n",
    "#### Add 'dl' kernel to jupyter\n",
    "```bash\n",
    "conda install ipykernal\n",
    "python -m ipykernel install --user --name dl\n",
    "```\n",
    "\n",
    "```bash\n",
    "(base)$ conda activate dl\n",
    "(metis)$\n",
    "```\n",
    "You can then start Jupyter by running\n",
    "\n",
    "```bash\n",
    "(metis)$ jupyter notebook\n",
    "```\n",
    "\n",
    "When starting a new notebook in Jupyter, you should select \"Kernel ->\n",
    "Change Kernel -> \"dl\" before running."
   ]
  },
  {
   "cell_type": "markdown",
   "metadata": {},
   "source": [
    "\n",
    "\n"
   ]
  },
  {
   "cell_type": "markdown",
   "metadata": {},
   "source": [
    "###  3) Install OpenCV\n",
    "\n",
    "pip3 install --upgrade pip   \n",
    "pip3 install opencv-python"
   ]
  },
  {
   "cell_type": "markdown",
   "metadata": {
    "collapsed": true
   },
   "source": [
    "### 4) Git Clone:\n",
    "- (In case you haven't yet), please git clone the workshop repo : https://github.com/julialintern/Intro_to_Deep_Learning"
   ]
  },
  {
   "cell_type": "markdown",
   "metadata": {
    "collapsed": true
   },
   "source": [
    "### 5) Testing:\n",
    "#### Launch jupyter notebook\n"
   ]
  },
  {
   "cell_type": "code",
   "execution_count": 2,
   "metadata": {},
   "outputs": [],
   "source": [
    "# once in your notebook, test:\n",
    "from tensorflow import keras"
   ]
  },
  {
   "cell_type": "code",
   "execution_count": null,
   "metadata": {},
   "outputs": [],
   "source": []
  }
 ],
 "metadata": {
  "kernelspec": {
   "display_name": "dl",
   "language": "python",
   "name": "dl"
  },
  "language_info": {
   "codemirror_mode": {
    "name": "ipython",
    "version": 3
   },
   "file_extension": ".py",
   "mimetype": "text/x-python",
   "name": "python",
   "nbconvert_exporter": "python",
   "pygments_lexer": "ipython3",
   "version": "3.8.13"
  }
 },
 "nbformat": 4,
 "nbformat_minor": 2
}
