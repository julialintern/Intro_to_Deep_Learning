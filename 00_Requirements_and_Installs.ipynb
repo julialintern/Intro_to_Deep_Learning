{
 "cells": [
  {
   "cell_type": "markdown",
   "metadata": {},
   "source": [
    "## Intro into Deep Learning with Keras!\n"
   ]
  },
  {
   "cell_type": "markdown",
   "metadata": {},
   "source": [
    "##  Set-up  \n",
    "\n",
    "\n",
    "### 0) Installing Anaconda\n",
    "\n",
    "If you haven't already, follow the instructions [here](https://github.com/thisismetis/NBM_Metis_Fundamentals/tree/master/anaconda_and_metis_env/anaconda_installation) to **install an updated version of Anaconda** (with Python 3). \n",
    "\n",
    "Next, check that `conda` is installed by running `conda -V` from your terminal. You should\n",
    "receive a response indicating your current `conda` version."
   ]
  },
  {
   "cell_type": "markdown",
   "metadata": {},
   "source": [
    "### 1)  Install Environment:   (for Tensorflow for Mac M1 Chip Users only)\n",
    "  \n",
    "Unfortunately, the new Mac M1 chip does not work with the typical Tensorflow implementation. Mac M1 chip users will require a very specific version of Tensorflow.  We have complied instructions for this installation, which are available to you below, but once again, you only need to follow these directions if you are a Mac M1 chip user (November 2020 or later).\n",
    "\n",
    "#### Create a conda environment (see reference here for 1st 3 steps as follows): \n",
    "\n",
    "1. conda create -n metis python=3.8\n",
    "\n",
    "2. source activate metis\n",
    "\n",
    "3. conda install anaconda\n",
    "\n",
    "#### Install Tensorflow\n",
    "\n",
    "4. Download the wheel called `tensorflow-2.4.1-py3-none-any.whl` located at this public google drive link:   \n",
    "[drive.google.com/drive/folders/1oSipZLnoeQB0Awz8U68KYeCPsULy_dQ7](https://drive.google.com/drive/folders/1oSipZLnoeQB0Awz8U68KYeCPsULy_dQ7)\n",
    "\n",
    "5. Assuming you downloaded the wheel to your Downloads folder, install it with pip:  \n",
    "\n",
    " ```bash\n",
    "pip install ~/Downloads/tensorflow-2.4.1-py3-none-any.whl --user`\n",
    "```\n",
    "\n",
    "6. Test that it works with `ipython` at the command line:\n",
    "\n",
    "```bash\n",
    "ipython --no-banner\n",
    "In [1]: import tensorflow\n",
    "```\n",
    "\n",
    "\n",
    "#### Install remaining packages\n",
    "```bash\n",
    "conda install -c conda-forge keras\n",
    "pip install pydot-ng\n",
    "brew install graphviz (refer here if you need to install home-brew: https://brew.sh)\n",
    "pip install pydot\n",
    "```\n",
    "\n",
    "#### Add metis kernel to jupyter\n",
    "```bash\n",
    "conda install ipykernel\n",
    "ipython kernel install --name \"metis\" --user\n",
    "```\n",
    "\n"
   ]
  },
  {
   "cell_type": "markdown",
   "metadata": {},
   "source": [
    "### 1)  Install Environment:   (All other machine-types)\n",
    "\n",
    "\n",
    "Now we'll run the code to install the metis environment. Note that installing the environment can take your computer a while, so please be patient!\n",
    "\n",
    "First, run this command to make sure `conda` is up-to-date.\n",
    "\n",
    "```bash\n",
    "conda update conda -y\n",
    "```\n",
    "\n",
    "Next, we need to install two packages. (`anaconda-client` allows us to load cloud environments and `mamba` is a faster version of `conda`).\n",
    "\n",
    "```bash\n",
    "conda install anaconda-client mamba -c conda-forge -y\n",
    "```\n",
    "\n",
    "Finally, install the Metis environment:\n",
    "\n",
    "```bash\n",
    "mamba env create thisismetis/metis\n",
    "```\n",
    "\n",
    "---\n",
    "\n",
    "**Important Note**: *only if the above installation with mamba does not work*, you should instead run the command below. We expect this to be a slower but workable backup option. \n",
    "\n",
    "```bash\n",
    "conda env create thisismetis/metis\n",
    "```\n",
    "\n",
    "---\n",
    "\n",
    "The `nb_conda` package will automatically connect your conda environment to\n",
    "jupyter.\n",
    "\n",
    "\n",
    "When you open a new terminal, you should see a prompt similar to:\n",
    "\n",
    "```bash\n",
    "(base)$\n",
    "```\n",
    "\n",
    "This indicates that you are currently in the \"base\" environment. You can confirm\n",
    "this with `conda info`.\n",
    "\n",
    "### Switch to the Metis Environment and run Jupyter\n",
    "\n",
    "**Before you can run Jupyter, you need to switch to the Metis environment.** You\n",
    "can do this by running\n",
    "\n",
    "```bash\n",
    "(base)$ conda activate metis\n",
    "(metis)$\n",
    "```\n",
    "\n",
    "You can then start Jupyter by running\n",
    "\n",
    "```bash\n",
    "(metis)$ jupyter notebook\n",
    "```\n",
    "\n",
    "When starting a new notebook in Jupyter, students should select \"Kernel ->\n",
    "Change Kernel -> metis\" before running.\n",
    "\n"
   ]
  },
  {
   "cell_type": "markdown",
   "metadata": {},
   "source": [
    "\n",
    "\n"
   ]
  },
  {
   "cell_type": "markdown",
   "metadata": {},
   "source": [
    "###  2) Download Neural Net Weights\n",
    "Lastly: Download weights for our CNN model from:\n",
    "https://github.com/fchollet/deep-learning-models/releases/download/v0.1/vgg16_weights_tf_dim_ordering_tf_kernels.h5"
   ]
  },
  {
   "cell_type": "markdown",
   "metadata": {
    "collapsed": true
   },
   "source": [
    "### 3) Git Clone:\n",
    "- Please git clone the workshop repo : https://github.com/julialintern/Intro_to_Deep_Learning"
   ]
  },
  {
   "cell_type": "markdown",
   "metadata": {
    "collapsed": true
   },
   "source": [
    "### 3) Testing:\n",
    "#### Launch jupyter notebook\n"
   ]
  },
  {
   "cell_type": "code",
   "execution_count": 2,
   "metadata": {},
   "outputs": [],
   "source": [
    "# once in your notebook, test:\n",
    "from tensorflow import keras"
   ]
  },
  {
   "cell_type": "code",
   "execution_count": null,
   "metadata": {},
   "outputs": [],
   "source": []
  }
 ],
 "metadata": {
  "kernelspec": {
   "display_name": "dl",
   "language": "python",
   "name": "dl"
  },
  "language_info": {
   "codemirror_mode": {
    "name": "ipython",
    "version": 3
   },
   "file_extension": ".py",
   "mimetype": "text/x-python",
   "name": "python",
   "nbconvert_exporter": "python",
   "pygments_lexer": "ipython3",
   "version": "3.8.13"
  }
 },
 "nbformat": 4,
 "nbformat_minor": 2
}
